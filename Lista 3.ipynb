{
 "cells": [
  {
   "cell_type": "markdown",
   "metadata": {},
   "source": [
    "# LISTA 3\n",
    "\n",
    "### 1\n",
    "\n",
    "#### 1.1\n",
    "\n",
    "Seja a função $y = 2 - x^2$\n",
    "\n",
    "Seja o quadrado $(0,0),(0,2),(2,0),(2,2)$\n",
    "\n",
    "Sabemos que entre $x \\in [0,2]$ para $y \\geq 0$ temos que a área da parábola $(A_y)$ é $\\frac{4\\sqrt2}{3}$ e a área do quadrado $(A_q)$: 4, logo $\\frac{A_y}{A_q} = \\frac{\\sqrt2}{3}$, o que nos deixa com:\n",
    "\n",
    "$$\\sqrt2 = 3^* \\frac{A_y}{A_q}$$\n",
    "\n",
    "Sejam $X$ e $Y$ duas variáveis aleatórias uniformes em $[0,2]$, seja $g(x,y)$ indicadora do ponto $(x,y)$ estar de baixo da parábola, ou seja $g(x,y) = 1$ se $2 - x^2 - y \\leq 0 $, temos que $E[g(x,y)] = \\frac{A_y}{A_q} = \\frac{\\sqrt2}{3}$\n",
    "\n",
    "#### 1.2\n",
    "\n",
    "$Var[g(X,Y)] = \\frac{\\sqrt2}{3}(1 - \\frac{\\sqrt2}{3}) $\n",
    "\n",
    "#### 1.3"
   ]
  },
  {
   "cell_type": "code",
   "execution_count": 4,
   "metadata": {},
   "outputs": [],
   "source": [
    "### imports \n",
    "\n",
    "import random as rd\n",
    "import numpy as np\n",
    "import matplotlib.pyplot as plt\n",
    "import string \n",
    "# from spellchecker import SpellChecker\n",
    "from math import log, exp, sqrt"
   ]
  },
  {
   "cell_type": "code",
   "execution_count": 5,
   "metadata": {},
   "outputs": [],
   "source": [
    "def monte_carlo(f, maxf, sq=1, N=1e3):\n",
    "    N=int(N)\n",
    "    Mn = 0\n",
    "    for i in range(N):\n",
    "        x = sq*(rd.random())\n",
    "        y = sq*(rd.random())\n",
    "        if y-f(x) <= maxf:\n",
    "            Mn += 1\n",
    "    return Mn/N"
   ]
  },
  {
   "cell_type": "code",
   "execution_count": 6,
   "metadata": {},
   "outputs": [],
   "source": [
    "def f(x):\n",
    "    return 2 - pow(x,2)"
   ]
  },
  {
   "cell_type": "markdown",
   "metadata": {},
   "source": [
    "### 1.4"
   ]
  },
  {
   "cell_type": "code",
   "execution_count": 29,
   "metadata": {},
   "outputs": [],
   "source": [
    "start = int(1e3)\n",
    "step = int(1e3)\n",
    "stop = int(1e5)+step\n",
    "est = []\n",
    "n = np.arange(start, stop, step)\n",
    "sq2 = pow(2,0.5)\n",
    "for N in n:\n",
    "    err = monte_carlo(f, 0, sq=2, N=N)*3 - sq2\n",
    "    est.append(abs(err)/sq2)"
   ]
  },
  {
   "cell_type": "code",
   "execution_count": 46,
   "metadata": {
    "scrolled": true
   },
   "outputs": [
    {
     "data": {
      "text/plain": [
       "[<matplotlib.lines.Line2D at 0x7f6c7c792eb8>]"
      ]
     },
     "execution_count": 46,
     "metadata": {},
     "output_type": "execute_result"
    },
    {
     "data": {
      "image/png": "[encoded data removed]",
      "text/plain": [
       "<Figure size 432x288 with 1 Axes>"
      ]
     },
     "metadata": {
      "needs_background": "light"
     },
     "output_type": "display_data"
    }
   ],
   "source": [
    "ax = plt.subplot()\n",
    "ax.set_xscale('log')\n",
    "ax.set_yscale('log')\n",
    "ax.set_xlabel('número de amostras')\n",
    "ax.set_ylabel('erro relativo')\n",
    "ax.set_title('Monte Carlo Error sqrt(2)')\n",
    "ax.plot(n,est,'-*')"
   ]
  },
  {
   "cell_type": "markdown",
   "metadata": {},
   "source": [
    "### 2\n",
    "\n",
    "#### 2.1\n",
    " \n",
    "Seja X uma v.a. com distribuição exponencial com parâmetro $\\lambda > 0$, $F_x(x) = P[X \\leq x] = 1 - e^{-\\lambda x}$\n",
    "\n",
    "Para achar a inversa:\n",
    "\n",
    "$1 - e^{-\\lambda x} = u \\Longrightarrow e^{-\\lambda x} = 1 - u  \\Longrightarrow  -\\lambda x = ln(1-u) \\Longrightarrow x = \\frac{-ln(1-u)}{\\lambda} $\n",
    "\n",
    "$F_x(u)^{-1} = \\frac{-ln(1-u)}{\\lambda} $, sendo $u \\sim unif(0,1)$\n",
    "\n",
    "#### 2.2\n",
    "\n",
    "$X$ tem distribuição de Pareto, logo $F_x(x) = P[X \\leq x] =$ $$\\int\\limits_{x_0}^x \\frac{\\alpha x_0^{\\alpha}}{x^{\\alpha+1}} dx = 1 - \\frac{x_0^\\alpha}{x^\\alpha}$$\t\n",
    "\n",
    "$\\frac{x_0^\\alpha}{x^\\alpha} = 1 - u \\Longrightarrow  \\frac{x_0}{x} = \\sqrt[\\leftroot{-2}\\uproot{2}\\alpha]{(1-u)} \\Longrightarrow x = \\frac{x_0}{\\sqrt[\\leftroot{-2}\\uproot{2}\\alpha]{(1-u)}}$, onde $u \\sim unif(0,1)$\n"
   ]
  },
  {
   "cell_type": "markdown",
   "metadata": {},
   "source": [
    "### 3\n",
    "\n",
    "#### 3.1\n",
    "\n",
    "Seja $D_k$ o espaço de dominios de tamanho k ou menor existentes na ufrj, onde $|D_k|$ é sua cardinalidade\n",
    "\n",
    "Seja $X_k$ o espaço de todos os domínios possíveis de tamanho k ou menor, onde a probabilidade de tirar qualquer um desses domínios é $\\frac{1}{\\sum_{i=1}^{k}26^i}$\n",
    "\n",
    "Seja $I_k$ a variável aleatória que nos diz se $X_k$ é um domínio válido ou não, ou seja $I_k(x)=1$ se $x \\in D_k$, 0 c.c \n",
    "\n",
    "$E[I_k] = \\frac{|D_k|}{\\sum_{i=1}^{k}26^i}$\n",
    "\n",
    "#### 3.2\n",
    "\n",
    "$Var[I_k] = E[I_k](1-E[I_k])$\n",
    "\n",
    "#### 3.3"
   ]
  },
  {
   "cell_type": "code",
   "execution_count": 48,
   "metadata": {},
   "outputs": [],
   "source": [
    "import httplib2\n",
    "h = httplib2.Http()"
   ]
  },
  {
   "cell_type": "code",
   "execution_count": 82,
   "metadata": {},
   "outputs": [],
   "source": [
    "def get_string(S):\n",
    "    k = int(log(1+(S*(26-1)/26))/log(26))+1\n",
    "    s = int(26*(26**(k-1)-1)/(25))\n",
    "    return k,S-s"
   ]
  },
  {
   "cell_type": "code",
   "execution_count": 84,
   "metadata": {},
   "outputs": [
    {
     "data": {
      "text/plain": [
       "((4, 71722), -71722)"
      ]
     },
     "execution_count": 84,
     "metadata": {},
     "output_type": "execute_result"
    }
   ],
   "source": [
    "get_string(90000)"
   ]
  },
  {
   "cell_type": "code",
   "execution_count": 7,
   "metadata": {},
   "outputs": [],
   "source": [
    "def monte_carlo_ufrj(k, N):\n",
    "    \n",
    "    lK = np.arange(2,k+1,1)\n",
    "    n = 0\n",
    "    for _ in range(N):\n",
    "        sizeW = rd.choice(lK)\n",
    "        word = ''.join(rd.choice(string.ascii_lowercase) for _ in range(sizeW))\n",
    "        try:\n",
    "            h.request('http://www.%s.ufrj.br'%(word))\n",
    "            n+=1\n",
    "        except:\n",
    "            pass        \n",
    "    return n"
   ]
  },
  {
   "cell_type": "code",
   "execution_count": null,
   "metadata": {},
   "outputs": [],
   "source": [
    "start = int(100)\n",
    "step = int(1000)\n",
    "stop = int(10000)+step\n",
    "nsteps = np.arange(start, stop, step)\n",
    "wn = []\n",
    "for N in nsteps:\n",
    "    wn.append(monte_carlo_ufrj(4, N))"
   ]
  },
  {
   "cell_type": "code",
   "execution_count": null,
   "metadata": {
    "scrolled": true
   },
   "outputs": [],
   "source": [
    "plt.plot(nsteps,wn)"
   ]
  },
  {
   "cell_type": "markdown",
   "metadata": {},
   "source": [
    "Podemos ver que:\n",
    "\n",
    "### 4\n",
    "\n",
    "Ideia: usar a exponencial com rejection sampling\n",
    "\n",
    "Podemos gerar $Z$ por simetria, onde $Z = S|Z|$ onde $S$ é o sinal de $Z$ com prob $\\frac{1}{2}$, se $U \\leq 0.5$ então $Z = -|Z|$ se $U > 0.5$ então $Z = |Z|$ , logo $|Z|$ tem densidade $f(x) = 2f_z(x), x\\geq 0$ \n",
    "\n",
    "$g(x) = \\lambda e^{-\\lambda x}$ e $f(x) = \\frac{2e^{-\\frac{x^2}{2}}}{\\sqrt{2\\pi}}$, queremos algo com $f(x) \\leq cg(x)$, queremos max $\\frac{f(x)}{g(x)} = \\frac{\\frac{2e^{-\\frac{x^2}{2}}}{\\sqrt{2\\pi}}}{\\lambda e^{-\\lambda x}} = \\frac{e^{\\lambda x -\\frac{x^2}{2}}}{\\lambda \\sqrt{2\\pi}}$\n",
    "\n",
    "derivando : $\\frac{e^{\\lambda x -\\frac{x^2}{2}}}{\\lambda \\sqrt{2 \\pi}}(\\lambda - x)$, logo o máximo acontece quando $x = \\lambda$\n",
    "\n",
    "Usando $\\lambda = 1, x = 1$, logo para $x=1 \\Longrightarrow \\frac{f(x)}{g(x)} = \\sqrt{\\frac{2e}{ \\pi}}$\n",
    "\n",
    "$\\frac{f(x)}{cg(x)} = e^{\\frac{-{(x-1)}^2}{2}} $\n",
    "\n",
    "1. geramos a distribuição exponencial a partir de a função inversa e a Uniforme, ou seja $Y = -ln(U), U \\sim unif(0,1)$\n",
    "2. Geramos U novamente\n",
    "3. Se $U \\leq e^{\\frac{-{(Y-1)^2}}{2}}$, então $|Z|=Y$, caso contrário volta-se para 1\n",
    "4. Gera-se $U$, se $U \\leq 0.5$ então $Z = -|Z|$, caso contrário $Z = |Z|$"
   ]
  },
  {
   "cell_type": "code",
   "execution_count": null,
   "metadata": {
    "scrolled": true
   },
   "outputs": [],
   "source": [
    "def inverse_exp(l=1):\n",
    "    return -log(rd.random())/l"
   ]
  },
  {
   "cell_type": "code",
   "execution_count": null,
   "metadata": {},
   "outputs": [],
   "source": [
    "def normal():\n",
    "    u = rd.random()\n",
    "    y = inverse_exp()\n",
    "    while u > (exp(-(y-1)**2)/2):\n",
    "        u = rd.random()\n",
    "        y = inverse_exp()\n",
    "    u = rd.random()\n",
    "    if u > 0.5:\n",
    "        return y\n",
    "    else:\n",
    "        return -y"
   ]
  },
  {
   "cell_type": "markdown",
   "metadata": {},
   "source": [
    "### 5\n",
    "\n",
    "O estimador usado em sala de aula foi o $\\frac{i}{K_2}$ onde $K_2 = \\sum_{i=1}{n}i$, calculando computacionalemtne conseguimos $1,035*10^{13}$, intuitivamente se usarmos outro porporcional como $ilog(i)$ esperamos que seja ligeiramente melhor e calculando computacionalmente foi, deu $1,028*10^{13}$\n"
   ]
  },
  {
   "cell_type": "code",
   "execution_count": null,
   "metadata": {},
   "outputs": [],
   "source": [
    "N = 1000\n",
    "# sala de aula \n",
    "S = 0\n",
    "K2 = 0\n",
    "\n",
    "#nossa hipotese\n",
    "S3 = 0\n",
    "K4 = 0\n",
    "for i in range(1,N+1):\n",
    "    S += i*(log(i)**2)\n",
    "    K2+=i\n",
    "    \n",
    "    K4 += i*log(i)\n",
    "    S3 += i*log(i)\n",
    "\n",
    "print((K4*S3)/(K2*S))"
   ]
  },
  {
   "cell_type": "code",
   "execution_count": null,
   "metadata": {},
   "outputs": [],
   "source": [
    "def monte_carlo_gn(N, nsamples):\n",
    "    numbers = np.arange(1,N+1, 1)\n",
    "    S = sum(numbers)\n",
    "    prob = numbers/S\n",
    "    Gn = 0\n",
    "    for i in range(nsamples):\n",
    "        n = np.random.choice(numbers, p=prob)\n",
    "        Gn += log(n)\n",
    "    return Gn*S/nsamples"
   ]
  },
  {
   "cell_type": "code",
   "execution_count": null,
   "metadata": {},
   "outputs": [],
   "source": [
    "N=10\n",
    "#valor empírico\n",
    "Gn = 0\n",
    "for i in range(1,N+1):\n",
    "    Gn+= i*log(i)\n",
    "(monte_carlo_gn(N,1000)-Gn)/Gn"
   ]
  },
  {
   "cell_type": "code",
   "execution_count": null,
   "metadata": {
    "scrolled": true
   },
   "outputs": [],
   "source": [
    "start = 100\n",
    "step = 1000\n",
    "stop = 100000\n",
    "\n",
    "N=1000\n",
    "#valor empírico\n",
    "Gn = 0\n",
    "for i in range(1,N+1):\n",
    "    Gn+= i*log(i)\n",
    "ws = np.arange(start, stop, step)\n",
    "err = []\n",
    "for i in ws: \n",
    "    S2 = monte_carlo_gn(N, i)\n",
    "    err.append(abs(S2-Gn)/Gn)"
   ]
  },
  {
   "cell_type": "code",
   "execution_count": null,
   "metadata": {},
   "outputs": [],
   "source": [
    "log(err[-1]), log(err[-2]),log(err[-3]), log(err[-4])"
   ]
  },
  {
   "cell_type": "code",
   "execution_count": null,
   "metadata": {},
   "outputs": [],
   "source": [
    "plt.xlabel('numero de iterações')\n",
    "plt.ylabel('erro relativo')\n",
    "plt.title('Aproximação Gn via Monte Carlo')\n",
    "plt.loglog(ws,err)"
   ]
  },
  {
   "cell_type": "markdown",
   "metadata": {},
   "source": [
    "### 6\n",
    "\n",
    "#### 6.1\n",
    "\n",
    "$$\\int\\limits_{a}^b x^{\\alpha}dx = \\frac{x^{\\alpha+1}}{\\alpha+1} |_a^b = \\frac{(b^{\\alpha+1} - a^{\\alpha+1})}{\\alpha+1}$$\n",
    "\n",
    "#### 6.2\n",
    "\n",
    "Seja $X \\sim unif[a,b]$ e $Y \\sim unif[a^\\alpha,b^\\alpha]$\n",
    "\n",
    "Seja I cuja função de densidade é $g(X,Y) = 1$ se $f(X) \\leq Y$, 0 c.c.\n",
    "\n",
    "$E[I] = g(\\alpha, a,b) = \\frac{(b^{\\alpha+1} - a^{\\alpha+1})}{\\alpha+1}$"
   ]
  },
  {
   "cell_type": "code",
   "execution_count": null,
   "metadata": {},
   "outputs": [],
   "source": [
    "def integration(ap, a, b, N):\n",
    "    sx = b-a\n",
    "    sy = b**ap - a**ap\n",
    "    ay = a**ap\n",
    "    Mn = 0\n",
    "    for i in range(N):\n",
    "        x = rd.random()*sx+a\n",
    "        y = rd.random()*sy+ay\n",
    "        if x**ap <= y:\n",
    "            Mn+=1\n",
    "    return (Mn/N)*sx*sy/ap"
   ]
  },
  {
   "cell_type": "code",
   "execution_count": null,
   "metadata": {},
   "outputs": [],
   "source": [
    "def g(ap,a,b):\n",
    "    return (b**(ap+1)-a**(ap+1))/(ap+1)"
   ]
  },
  {
   "cell_type": "code",
   "execution_count": null,
   "metadata": {},
   "outputs": [],
   "source": [
    "alpha = [1,2,3]\n",
    "bs = [1,2,3]\n",
    "a = 0\n",
    "Nsteps = np.arange(10,int(10e5),int(10e3))\n",
    "color = ['b','r','g']\n",
    "for ap in alpha:\n",
    "    plt.figure()\n",
    "    plt.title('alpha=%s'%(ap))\n",
    "    plt.xlabel('número de amostras')\n",
    "    plt.ylabel('erro relativo')\n",
    "    for b,c in zip(bs, color):\n",
    "        error = []\n",
    "        for N in Nsteps:\n",
    "            gm = integration(ap, a, b, N)\n",
    "            ga = g(ap,a,b)\n",
    "            err = abs(gm - ga)/ga\n",
    "            error.append(err)        \n",
    "        plt.loglog(Nsteps,error,'-*',color=c)\n",
    "    plt.legend(bs)\n"
   ]
  },
  {
   "cell_type": "markdown",
   "metadata": {},
   "source": [
    "Vemos que os erros diminuem conforme o número de amostras feitas conforme esperado e os erros ficam instáveis para um número de amostras muito grande, provavelmente, devido a arredondamentos numéricos feito pelo computador e em relação aos parâmetros, não há diferenças significativas se variarmos os parâmetros, como era o esperado."
   ]
  },
  {
   "cell_type": "markdown",
   "metadata": {},
   "source": [
    "### 7\n",
    "\n",
    "Se criarmos um vetor de tamanho N, onde cada entrada dele é um um número de [1..N] e percorremos esse vetor de trás pra frente, onde dado que estamos na última posição escolhemos um número de 1 a N com igual probabilidade para trocar de lugar o último número, na segunda iteração faremos a mesma coisa com o penúltimo número, só que dessa vez escolhemos só as posições de [1..N-1] para trocarmos de posição e faremos isso N vezes, esse é o algoritmo Knuff Shufle para gerar permutações de N elementos de maneira uniforme. Se modificarmos esse algoritmo para parar na k-ésima iteração e recolher os últimos k elementos do vetor, teremos um subconjunto de tamanho k dentre n objetos, com igual probabilidade de acontecer.\n",
    "\n",
    "### 8\n",
    "\n",
    "#### 8.1 \n",
    "\n",
    "ideia 1:Sejam $X_i$ v.a. iid a $X$, se gerarmos n amostras e aplicarmos uma função indicadora $I$ tal que $I(x) = 1$ se$ X_i \\geq x$ e $0$ c.c, e fizermos a média amostral: $\\frac{\\sum_{i=1}^nI(X_i)}{n}$, conseguiremos uma boa aproximação de $P[X \\geq x]$\n",
    "\n",
    "#### 8.2\n",
    "\n",
    "ideia 1:\n",
    "    $Var[I(X)] = pq$, onde $p=P[I(x)=1]=P[X \\geq x]$ e $q = 1-p$\n",
    "ideia 2:\n",
    "\n",
    "#### 8.3\n",
    "\n",
    "Se fizermos importance sampling com $h(x) = (S-x)/S$ ond $S = D_0+\\int_D ds$, onde $D_0$ é o primeiro ponto de D, \n",
    "\n",
    "teremos $E[X^2] = \\frac{1}{n}\\sum_{i=1}^n \\frac{I^2(X_i)}{h(X_i)} = \\frac{1}{n}S\\sum_{i=1}^n \\frac{I^2(X_i)}{S-X_i}  = \\frac{1}{n}S\\sum_{i=1}^n \\frac{I(X_i)}{S - X_i}$\n",
    "\n",
    "$Var = \\frac{1}{n}S\\sum_{i=1}^n \\frac{I(X_i)}{S - X_i} - p^2$"
   ]
  },
  {
   "cell_type": "code",
   "execution_count": null,
   "metadata": {},
   "outputs": [],
   "source": [
    "def monte_carlo_simples(x, nsamples):\n",
    "    normal = np.random.normal(0,1, nsamples)\n",
    "    p = [1 if n >= x 0 else for n in normal]\n",
    "    return sum(p)/nsamples"
   ]
  },
  {
   "cell_type": "code",
   "execution_count": null,
   "metadata": {},
   "outputs": [],
   "source": [
    "def monte_carlo_complex(x, nsamples):\n",
    "    "
   ]
  }
 ],
 "metadata": {
  "kernelspec": {
   "display_name": "Python 3",
   "language": "python",
   "name": "python3"
  },
  "language_info": {
   "codemirror_mode": {
    "name": "ipython",
    "version": 3
   },
   "file_extension": ".py",
   "mimetype": "text/x-python",
   "name": "python",
   "nbconvert_exporter": "python",
   "pygments_lexer": "ipython3",
   "version": "3.5.2"
  }
 },
 "nbformat": 4,
 "nbformat_minor": 2
}
